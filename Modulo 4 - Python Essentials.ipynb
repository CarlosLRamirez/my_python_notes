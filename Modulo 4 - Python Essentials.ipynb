{
 "nbformat": 4,
 "nbformat_minor": 2,
 "metadata": {
  "language_info": {
   "name": "python",
   "codemirror_mode": {
    "name": "ipython",
    "version": 3
   },
   "version": "3.8.2-final"
  },
  "orig_nbformat": 2,
  "file_extension": ".py",
  "mimetype": "text/x-python",
  "name": "python",
  "npconvert_exporter": "python",
  "pygments_lexer": "ipython3",
  "version": 3,
  "kernelspec": {
   "name": "python38232bit6e404546097f45adabd81ce9b0f7806b",
   "display_name": "Python 3.8.2 32-bit"
  }
 },
 "cells": [
  {
   "cell_type": "markdown",
   "metadata": {},
   "source": [
    "# Modulo 4 - Python Essentiales\n",
    "\n",
    "Una de las razones para utilizar funciones: **si un fragmento de código comienza a aparecer mas de una vez, debe considerarse la posibilidad de apartarlo como una funcion**.\n",
    "\n",
    "Un buen desarrollador divide el código en piezas aisladas, y codifica cada una de ellas en la forma de una **función**. A este proceso se le llama **descomposición**.\n",
    "\n",
    "## Descomposición\n",
    "\n",
    "La descomposición tambien se hace, para compartir reponsablidades entre diferentes programadores.\n",
    "\n",
    "Esto nos lleva directamente a la tercera condición: **si se va a dividir el trabajo entre varios programadores, se debe descomponer el problema para permitir que el producto sea implementado como un conjunto de funciones escritas por separado empacadas juntas en diferentes módulos.**\n",
    "\n",
    "## De donde provienen las funciones\n",
    "\n",
    "Generalmente de tres lugares:\n",
    "\n",
    "* Python: Python ya trae pre-definidas muchas funciones. Estas se llaman **funciones integradas**\n",
    "* Modulos: Los cuales pueden venir ya incluidos, o los podemos agregar.\n",
    "* Codigo: las que nosotros programamos en el código.\n",
    "\n",
    "*hay otras funciones que provienen de clases, pero eso se verá mas adelante*\n",
    "\n",
    "## Tu Primer función\n",
    "\n",
    "Una funcion en Python se **define** de la siguiente manera\n",
    "\n",
    "```python\n",
    "def nombreFuncion():\n",
    "    cuerpoFuncion\n",
    "```\n",
    "\n",
    "ejemplo:"
   ],
   "execution_count": null,
   "outputs": []
  },
  {
   "cell_type": "code",
   "execution_count": null,
   "metadata": {},
   "outputs": [],
   "source": [
    "def mensaje():\n",
    "    print(\"por favor ingrese un valor: \")\n",
    "\n",
    "print(\"aqui se inicia\")\n",
    "# aqui \"invocamos\" a la funcion definida previamente\n",
    "mensaje()\n",
    "a=input()\n",
    "mensaje()\n",
    "b=input()\n",
    "print(\"aqui se termina\")"
   ]
  },
  {
   "cell_type": "markdown",
   "metadata": {},
   "source": [
    "Al proceso de \"llamar\" o \"usar\" la función dentro del codigo, se llama **invocación**.\n",
    "\n",
    "**No se debe invocar una función, sin haberse definido previamente.** El siguiente codigo provoca un error de execución. `NameError: name 'mensaje' is not defined`\n",
    "\n",
    "```python\n",
    "print(\"Se comienza aquí.\")\n",
    "mensaje()\n",
    "print(\"Se termina aquí.\")\n",
    "\n",
    "def mensaje():\n",
    "    print(\"Ingresa un valor: \")\n",
    "```\n",
    "\n",
    "**Una función NO puede tener el mismo nombre que una variable**. El siguiente fragmento es erroneo, causará que Python olvide el rol de la función.\n",
    "\n",
    "```python\n",
    "def mensaje():\n",
    "    print(\"Ingresa un valor: \")\n",
    "\n",
    "mensaje = 1\n",
    "```\n",
    "\n",
    "Si se puede definir una función en cualquier parte del código, según se necesite, se ve un poco extraño, pero es correcto\n",
    "\n",
    "```python\n",
    "print(\"Se comienza aquí.\")\n",
    "\n",
    "def mensaje():\n",
    "    print(\"Ingresa un valor: \")\n",
    "\n",
    "mensaje()\n",
    "\n",
    "print(\"Se termina aquí.\")\n",
    "```"
   ],
   "execution_count": null,
   "outputs": []
  },
  {
   "cell_type": "markdown",
   "metadata": {},
   "source": [
    "## Funciones con parametros\n",
    "\n",
    "Una función tambien puede recibir **parametros**. Los **parametros** solo existen dentro de las funciones, solo son visibles dentro de la función.\n",
    "\n",
    "Cuando invocamos una función agregamos **argumentos** los cuales pasan valores a los **parametros**\n"
   ],
   "execution_count": null,
   "outputs": []
  },
  {
   "cell_type": "code",
   "execution_count": null,
   "metadata": {},
   "outputs": [],
   "source": [
    "def mensaje(numero):\n",
    "    print(\"Su numero es \",numero)\n",
    "\n",
    "mensaje(4)"
   ]
  },
  {
   "cell_type": "markdown",
   "metadata": {},
   "source": [
    "Si al momento de invocar una función, no colocamos todos los argumentos con que la función se definió, nos da un `TypeError`"
   ],
   "execution_count": null,
   "outputs": []
  },
  {
   "cell_type": "code",
   "execution_count": null,
   "metadata": {},
   "outputs": [],
   "source": [
    "def mensaje(numero):\n",
    "    print(\"Su numero es \",numero)\n",
    "\n",
    "mensaje()"
   ]
  },
  {
   "cell_type": "markdown",
   "metadata": {},
   "source": [
    "El nombre de una variable utilizada dentro de una función, se puede *repetir* dentro del codigo. Los parametros y variables de las funciones son independientes.\n",
    "\n",
    "A esto se le llama **sombreado**"
   ],
   "execution_count": null,
   "outputs": []
  },
  {
   "cell_type": "code",
   "execution_count": null,
   "metadata": {},
   "outputs": [],
   "source": [
    "def mensaje(numero):\n",
    "    saludo=\"su numero es: \"\n",
    "    print(saludo,numero)\n",
    "\n",
    "saludo=\"hola buenos dias, \"\n",
    "numero=5\n",
    "print(saludo)\n",
    "print(numero)\n",
    "mensaje(8)"
   ]
  },
  {
   "cell_type": "markdown",
   "metadata": {},
   "source": [
    "Una función puede tener tantos parametros como se necesite, aunque entre mas tenga, se hace mas dificil de entender y memorizar su rol y proposito"
   ],
   "execution_count": null,
   "outputs": []
  },
  {
   "cell_type": "code",
   "execution_count": null,
   "metadata": {},
   "outputs": [],
   "source": [
    "def suma(a,b):\n",
    "    print(\"la suma es: \",a+b)\n",
    "\n",
    "def mensaje(nombre,edad,pais):\n",
    "    print(\"Hola, soy \",nombre,\" tengo \",edad,\"años y soy de\",pais)\n",
    "\n",
    "suma(4,5)\n",
    "mensaje(\"Carlos\",36,\"Guatemala\")"
   ]
  },
  {
   "cell_type": "markdown",
   "metadata": {},
   "source": [
    "## Paso de parametros posicionales Vs. con palabras clave\n",
    "\n",
    "La técnica que asigna cada argumento al parámetro correspondiente, es llamada paso de **parámetros posicionales**, los argumentos pasados de esta manera son llamados **argumentos posicionales.**\n",
    "\n",
    "La otra forma de pasar argumentos es mediante *Palabras Clave* y no por su posición\n",
    "\n",
    "\n",
    "\n",
    "\n",
    "\n"
   ],
   "execution_count": null,
   "outputs": []
  },
  {
   "cell_type": "code",
   "execution_count": null,
   "metadata": {},
   "outputs": [],
   "source": [
    "def mensaje(nombre,apellido):\n",
    "    print(\"Hola\",nombre,apellido)\n",
    "\n",
    "mensaje(\"Carlos\",\"Ramírez\")\n",
    "mensaje(nombre=\"Luke\",apellido=\"Skywalker\")\n",
    "mensaje(apellido=\"Jimenez\",nombre=\"Agatha Nairobi\")"
   ]
  },
  {
   "cell_type": "markdown",
   "metadata": {},
   "source": [
    "Por supuesto **no se debe de utilizar el nombre de un parámetro que no existe**, el resultado dara un error de ejecución `TypeError`.\n",
    "\n",
    "Es posible **combinar** ambos tipos si se desea, solo hay una regla inquebrantable: **se deben colocar primero los argumentos posicionales y después los de palabras clave.**\n",
    "\n",
    "Aunque hay que tener cuidado de no repetir los argumentos.\n"
   ],
   "execution_count": null,
   "outputs": []
  },
  {
   "cell_type": "code",
   "execution_count": null,
   "metadata": {},
   "outputs": [],
   "source": [
    "def numeros(a,b,c):\n",
    "    print(a,b,c)  \n",
    "\n",
    "#pasar argumentos posicionales\n",
    "numeros(1,2,3)\n",
    "\n",
    "#pasar argumentos por palabras clave\n",
    "numeros(c=3,a=1,b=2)\n",
    "\n",
    "#combinando posicionales y de palabras clave\n",
    "numeros(1,c=3,b=2)\n",
    "\n",
    "#la siguiente invocación es erronea, y dara un TypeError\n",
    "numeros(3,a=1,c=2)"
   ]
  },
  {
   "cell_type": "markdown",
   "metadata": {},
   "source": [
    "## Parametros por defecto\n",
    "\n",
    "Podemos asignar un valor *por defecto* a un parametro de una función, en caso al invocarla este argumento no se pase.\n",
    "\n",
    "Regla: los parametros con valor por defecto no pueden ir despues de un parametro que no tiene valor por defecto\n",
    "\n",
    "`SyntaxError: non-default argument follows default argument`"
   ],
   "execution_count": null,
   "outputs": []
  },
  {
   "cell_type": "code",
   "execution_count": null,
   "metadata": {},
   "outputs": [],
   "source": [
    "def suma(a,b,c=0,d=0):\n",
    "    print(\"suma\",a+b+c+d)\n",
    "\n",
    "suma(1,2,3,4)\n",
    "suma(1,2,3)\n",
    "suma(1,2)\n",
    "suma(a=3,b=2,c=4)"
   ]
  },
  {
   "cell_type": "markdown",
   "metadata": {},
   "source": [
    "## Ejercicios de la Sección\n",
    "\n",
    "¿Cuál es la salida del siguiente código?"
   ],
   "execution_count": null,
   "outputs": []
  },
  {
   "cell_type": "code",
   "execution_count": null,
   "metadata": {},
   "outputs": [],
   "source": [
    "def intro(a=\"James Bond\", b=\"Bond\"):\n",
    "    print(\"Mi nombre es\", b + \".\", a + \".\")\n",
    "\n",
    "intro()"
   ]
  },
  {
   "cell_type": "markdown",
   "metadata": {},
   "source": [
    "¿Cuál es la salida del siguiente código?"
   ],
   "execution_count": null,
   "outputs": []
  },
  {
   "cell_type": "code",
   "execution_count": null,
   "metadata": {},
   "outputs": [],
   "source": [
    "def intro(a=\"James Bond\", b=\"Bond\"):\n",
    "    print(\"Mi nombre es\", b + \".\", a + \".\")\n",
    "\n",
    "intro(b=\"Sergio López\")"
   ]
  },
  {
   "cell_type": "markdown",
   "metadata": {},
   "source": [
    "¿Cuál es la salida del siguiente fragmento de código?"
   ],
   "execution_count": null,
   "outputs": []
  },
  {
   "cell_type": "code",
   "execution_count": null,
   "metadata": {},
   "outputs": [],
   "source": [
    "def intro(a, b=\"Bond\"):\n",
    "    print(\"Mi nombre es\", b + \".\", a + \".\")\n",
    "\n",
    "intro(\"Susan\")"
   ]
  },
  {
   "cell_type": "markdown",
   "metadata": {},
   "source": [
    "¿Cuál es la salida del siguiente código?"
   ],
   "execution_count": null,
   "outputs": []
  },
  {
   "cell_type": "code",
   "execution_count": null,
   "metadata": {},
   "outputs": [],
   "source": [
    "def suma(a, b=2, c):\n",
    "    print(a + b + c)\n",
    "\n",
    "suma(a=1, c=3)"
   ]
  },
  {
   "cell_type": "markdown",
   "metadata": {},
   "source": [
    "## Funciónes con ``return``\n",
    "\n",
    "Para que una función **devuelva un valor** se utiliza la instrucción `return`\n",
    "\n",
    "La instrucción `return` tiene dos variantes:\n",
    "\n",
    "### `return` sin una expresion\n",
    "\n",
    "La primera consiste en la palabra reservada en sí, sin nada que la siga.\n",
    "\n",
    "Cuando se emplea dentro de una función, **provoca la terminación inmediata de la ejecución de la función**, y un retorno instantáneo (de ahí el nombre) al punto de invocación.\n",
    "\n",
    "Nota: si una función no está destinada a producir un resultado, emplear la instrucción  `return` **no es obligatorio**, se ejecutará implícitamente al final de la función.\n",
    "\n",
    "De cualquier manera, se puede emplear para **terminar las actividades de una función, antes de que el control llegue a la última línea de la función.**\n"
   ],
   "execution_count": null,
   "outputs": []
  },
  {
   "cell_type": "code",
   "execution_count": null,
   "metadata": {},
   "outputs": [],
   "source": [
    "def potencias_2(num=0):\n",
    "    if num==0 or num>20:\n",
    "        print(\"el numero es 0 o muy grande\")\n",
    "        return\n",
    "    else:\n",
    "        for i in range(0,num+1):\n",
    "            print(2**i,end=\" \")\n",
    "    \n",
    "potencias_2(21)\n",
    ""
   ]
  },
  {
   "cell_type": "markdown",
   "metadata": {},
   "source": [
    "### `return` con una expresión\n",
    "\n",
    "Como su nombre lo indica la función devuelve un resultado, tambien detiene la ejecución de la función."
   ],
   "execution_count": null,
   "outputs": []
  },
  {
   "cell_type": "code",
   "execution_count": null,
   "metadata": {},
   "outputs": [],
   "source": [
    "def mensaje(nombre,edad):\n",
    "    print(\"Hola\",nombre,\"de\",edad,\"años de edad\")\n",
    "    #aqui te devuelvo tu año de nacimiento (mas o menos)\n",
    "    year=2020-edad\n",
    "    return year\n",
    "\n",
    "print(\"Welcome\")\n",
    "\n",
    "#aqui utilizamos el retorno de la funcion, dentro de otra función\n",
    "print(\"su año de nacimiento es\",mensaje(\"Paula\",14))\n",
    "\n",
    "#asignamos el retorno de la funcion a una variable\n",
    "año=mensaje(\"Carlos\",36)\n",
    "print(\"Su año de nacimiento es:\",año)\n",
    "\n",
    "#aqui vamos a ignorar lo que nos retorna la funcion\n",
    "mensaje(\"Victor\",3)\n",
    "\n",
    "print(\"Bye\")\n",
    "\n",
    "\n",
    ""
   ]
  },
  {
   "cell_type": "markdown",
   "metadata": {},
   "source": [
    "### El resultado `None`\n",
    "\n",
    "`None` es una palabra reservada en Python, solo aparece cuando una función no devuelve ningun resultado, y solo se puede utilizar para hacer alguna comparación. Vea el siguiente ejemplo:\n",
    "\n",
    "Un resultado `None` podria indicar que existe un error en la función.\n",
    "\n",
    "Una función devuelve `None` si tiene un `return` vacio, sin nada posterior, o si la función termina si ejecución sin ningun `return`\n"
   ],
   "execution_count": null,
   "outputs": []
  },
  {
   "cell_type": "code",
   "execution_count": null,
   "metadata": {},
   "outputs": [],
   "source": [
    "def strangeFunction(num):\n",
    "    if (num % 2 == 0):\n",
    "        return True\n",
    "\n",
    "print(strangeFunction(4))\n",
    "\n",
    "print(strangeFunction(5))\n",
    "\n",
    "if strangeFunction(5)==None:\n",
    "    print(\"el numero es impar\")"
   ]
  },
  {
   "cell_type": "markdown",
   "metadata": {},
   "source": [
    "### Funciones y listas\n",
    "\n",
    "Una lista como parametro de una función"
   ],
   "execution_count": null,
   "outputs": []
  },
  {
   "cell_type": "code",
   "execution_count": null,
   "metadata": {},
   "outputs": [],
   "source": [
    "def promedio(list):\n",
    "    sum=0\n",
    "    for i in list:\n",
    "        sum+=i\n",
    "    return sum/len(list)\n",
    "\n",
    "numeros=[1,1,1,1,2,2,2,2,3,3,3,3,4,4,4,4,2,1,2,1,1,5,2,5,1]\n",
    "promedio(numeros)"
   ]
  },
  {
   "cell_type": "markdown",
   "metadata": {},
   "source": [
    "Una lista como retorno de una funcíon"
   ],
   "execution_count": null,
   "outputs": []
  },
  {
   "cell_type": "code",
   "execution_count": null,
   "metadata": {},
   "outputs": [],
   "source": [
    "def palabra(word):\n",
    "    lista=[]\n",
    "    for char in word:\n",
    "        lista.append(char)\n",
    "    return lista\n",
    "\n",
    "def vocales(word):\n",
    "    voc=[\"a\",\"e\",\"i\",\"o\",\"u\"]\n",
    "    lista=[]\n",
    "    for char in word:\n",
    "        if char in voc:\n",
    "            lista.append(char)\n",
    "    return lista\n",
    "\n",
    "print(palabra(\"carlos\"))\n",
    "print(vocales(\"murcielago\"))\n",
    ""
   ]
  },
  {
   "cell_type": "markdown",
   "metadata": {},
   "source": [
    "### 4.1.3.6 LABORATORIO: Un año bisiesto: escribiendo tus propias funciones\n",
    "\n",
    "Tu tarea es escribir y probar una función que toma un argumento (un año) y devuelve True si el año es un año bisiesto, o False sí no lo es.\n",
    "\n",
    "Parte del esqueleto de la función ya está en el editor.\n",
    "\n",
    "Nota: también hemos preparado un breve código de prueba, que puedes utilizar para probar tu función.\n",
    "\n",
    "El código utiliza dos listas: una con los datos de prueba y la otra con los resultados esperados. El código te dirá si alguno de tus resultados no es válido.\n",
    "\n"
   ],
   "execution_count": null,
   "outputs": []
  },
  {
   "cell_type": "code",
   "execution_count": null,
   "metadata": {},
   "outputs": [],
   "source": [
    "def isYearLeap(year):\n",
    "    Leap=False\n",
    "    if (year % 4) == 0:\n",
    "        if  (year % 100)!=0:\n",
    "                Leap=True\n",
    "        elif (year % 400)==0:\n",
    "                Leap=True\n",
    "    return Leap\n",
    "\n",
    "\n",
    "testData = [1900, 2000, 2016, 1987]\n",
    "testResults = [False, True, True, False]\n",
    "for i in range(len(testData)):\n",
    "\tyr = testData[i]\n",
    "\tprint(yr,\"->\",end=\"\")\n",
    "\tresult = isYearLeap(yr)\n",
    "\tif result == testResults[i]:\n",
    "\t\tprint(\"OK\")\n",
    "\telse:\n",
    "\t\tprint(\"Error\")"
   ]
  },
  {
   "cell_type": "markdown",
   "metadata": {},
   "source": [
    "4.1.3.7 LABORATORIO: ¿Cuántos días?: escribiendo y utilizando tus propias funciones\n",
    "\n",
    "Tu tarea es escribir y probar una función que toma dos argumentos (un año y un mes) y devuelve el número de días del mes/año dado (mientras que solo febrero es sensible al valor year, tu función debería ser universal).\n",
    "\n",
    "La parte inicial de la función está lista. Ahora, haz que la función devuelva None si los argumentos no tienen sentido.\n",
    "\n",
    "Por supuesto, puedes (y debes) utilizar la función previamente escrita y probada (LAB 4.1.3.6). Puede ser muy útil. Te recomendamos que utilices una lista con los meses. Puedea crearla dentro de la función; este truco acortará significativamente el código.\n",
    "\n",
    "Hemos preparado un código de prueba. Amplíalo para incluir más casos de prueba."
   ],
   "execution_count": null,
   "outputs": []
  },
  {
   "cell_type": "code",
   "execution_count": null,
   "metadata": {},
   "outputs": [],
   "source": [
    "def isYearLeap(year):\n",
    "    return (year % 4) == 0 and (year % 100)!=0 or (year % 400)==0\n",
    "    \n",
    "def daysInMonth(year, month): \n",
    "    dias=[31,28,31,30,31,30,31,31,30,31,30,31]\n",
    "    if month<=12 and month>0 and year>0:\n",
    "        if isYearLeap(year) and month==2:\n",
    "            return dias[month-1]+1\n",
    "        else:\n",
    "            return dias[month-1]\n",
    "        \n",
    "\n",
    "testYears = [1900, 2000, 2016, 1987,2020,2019,2024,2045]\n",
    "testMonths = [2, 2, 1, 11,2,12,-3,13]\n",
    "testResults = [28, 29, 31, 30,29,31,None,None]\n",
    "for i in range(len(testYears)):\n",
    "\tyr = testYears[i]\n",
    "\tmo = testMonths[i]\n",
    "\tprint(yr, mo, \"->\", end=\"\")\n",
    "\tresult = daysInMonth(yr, mo)\n",
    "\tif result == testResults[i]:\n",
    "\t\tprint(\"OK\")\n",
    "\telse:\n",
    "\t\tprint(\"Error\")"
   ]
  },
  {
   "cell_type": "markdown",
   "metadata": {},
   "source": [
    "4.1.3.8 LABORATORIO: Día del año: escribiendo y utilizando tus propias funciones\n",
    "\n",
    "Tu tarea es escribir y probar una función que toma tres argumentos (un año, un mes y un día del mes) y devuelve el día correspondiente del año, o devuelve None si cualquiera de los argumentos no es válido.\n",
    "\n",
    "Debes utilizar las funciones previamente escritas y probadas. Agrega algunos casos de prueba al código. Esta prueba es solo el comienzo."
   ],
   "execution_count": null,
   "outputs": []
  },
  {
   "cell_type": "code",
   "execution_count": null,
   "metadata": {},
   "outputs": [],
   "source": [
    "def isYearLeap(year):\n",
    "    return (year % 4) == 0 and (year % 100)!=0 or (year % 400)==0\n",
    "\n",
    "def daysInMonth(year, month):\n",
    "    dias=[31,28,31,30,31,30,31,31,30,31,30,31]\n",
    "    if month<=12 and month>0 and year>0:\n",
    "        if isYearLeap(year) and month==2:\n",
    "            return dias[month-1]+1\n",
    "        else:\n",
    "            return dias[month-1]\n",
    "\n",
    "def dayOfYear(year, month, day):\n",
    "    if month<=12 and month>0 and year>0 and day>0 and day<=31 and daysInMonth(year,month)>=day:\n",
    "        sum_dias=0\n",
    "        for i in range(1,month):\n",
    "            sum_dias+=daysInMonth(year,i)\n",
    "        return sum_dias+day\n",
    "\n",
    "print(dayOfYear(2001, 12, 31))\n",
    ""
   ]
  },
  {
   "cell_type": "markdown",
   "metadata": {},
   "source": [
    "## 4.1.3.9 LABORATORIO: Números primos: ¿Cómo encontrarlos?\n",
    "\n",
    "Un número natural es primo si es mayor que 1 y no tiene divisores más que 1 y si mismo.\n",
    "\n",
    "¿Complicado? De ningúna manera. Por ejemplo, 8 no es un número primo, ya que puedes dividirlo entre 2 y 4 (no podemos usar divisores iguales a 1 y 8, ya que la definición lo prohíbe).\n",
    "\n",
    "Por otra parte, 7 es un número primo, ya que no podemos encontrar ningún divisor para el.\n",
    "\n",
    "Tu tarea es escribir una función que verifique si un número es primo o no.\n",
    "\n",
    "La función:\n",
    "\n",
    "Se llama `isPrime`.\n",
    "Toma un argumento (el valor a verificar).\n",
    "Devuelve True si el argumento es un número primo, y False de lo contrario.\n",
    "\n",
    "Sugerencia: intenta dividir el argumento por todos los valores posteriores (comenzando desde 2) y verifica el resto: si es cero, tu número no puede ser un número primo; analiza cuidadosamente cuándo deberías detener el proceso.\n",
    "\n",
    "Si necesitas conocer la raíz cuadrada de cualquier valor, puedes utilizar el operador **. Recuerda: la raíz cuadrada de x es la misma que x0.5\n",
    "\n",
    "Complementa el código en el editor.\n",
    "\n",
    "Ejecuta tu código y verifica si tu salida es la misma que la nuestra.\n",
    "\n",
    "**Datos de prueba**\n",
    "\n",
    "Salida esperada:\n",
    "\n",
    "`2 3 5 7 11 13 17 19`"
   ],
   "execution_count": null,
   "outputs": []
  },
  {
   "cell_type": "code",
   "execution_count": null,
   "metadata": {},
   "outputs": [],
   "source": [
    "def isPrime(num):   \n",
    "    for i in range (2,round(num**(1/2))+1):\n",
    "        if (num % i == 0) and (i!=num):\n",
    "            #print(\"your number is divisible in\",i)\n",
    "            return False\n",
    "    else:\n",
    "        return True\n",
    "\n",
    "for i in range(0, 100):\n",
    "    if isPrime(i + 1):\n",
    "        print(i + 1, end=\" \")\n",
    "print()\n",
    "\n",
    "\n",
    ""
   ]
  },
  {
   "cell_type": "markdown",
   "metadata": {},
   "source": [
    "## 4.1.3.10 LAB: Convirtiendo el consumo de combustible\n",
    "\n",
    "### Escenario\n",
    "El consumo de combustible de un automóvil se puede expresar de muchas maneras diferentes. Por ejemplo, en Europa, se muestra como la cantidad de combustible consumido por cada 100 kilómetros.\n",
    "\n",
    "En los EE. UU., se muestra como la cantidad de millas recorridas por un automóvil con un galón de combustible.\n",
    "\n",
    "Tu tarea es escribir un par de funciones que conviertan l/100km a mpg(milas por galón), y viceversa.\n",
    "\n",
    "Las funciones:\n",
    "\n",
    "Se llaman l100kmampg y mpgal100km respectivamente.\n",
    "Toman un argumento (el valor correspondiente a sus nombres).\n",
    "Complementa el código en el editor.\n",
    "\n",
    "Ejecuta tu código y verifica si tu salida es la misma que la nuestra.\n",
    "\n",
    "Aquí hay información para ayudarte:\n",
    "\n",
    "1 milla = 1609.344 metros.\n",
    "1 galón = 3.785411784 litros.\n",
    "\n",
    "### Datos de prueba\n",
    "\n",
    "Salida esperada:\n",
    "\n",
    "```text\n",
    "60.31143162393162\n",
    "31.36194444444444\n",
    "23.52145833333333\n",
    "3.9007393587617467\n",
    "7.490910297239916\n",
    "10.009131205673757\n",
    "```"
   ],
   "execution_count": null,
   "outputs": []
  },
  {
   "cell_type": "code",
   "execution_count": null,
   "metadata": {},
   "outputs": [],
   "source": [
    "def l100kmtompg(liters):\n",
    "#function that converts liters per 100km to miles per gallon\n",
    "#\n",
    "#             1l       1hkm         1.609344 km         1 galon                 galon\n",
    "#  liters   ------- * ------  *  ----------------- * -------------------- ==  --------\n",
    "#             1hkm    100km           1 mile          3.785411784 liters        miles\n",
    "#\n",
    "    return 1 / ( (liters*1.609344) / (100*3.785411784) )\n",
    "\n",
    "def mpgtol100km(miles):\n",
    "#function that convers miles per galon to liters per 100km\n",
    "#\n",
    "#        miles       1.609344 km         1 galon              hkm      hkm\n",
    "#    X   ------- * ----------------- * ------------------ * ------ = -------\n",
    "#        galon           1 mile       3.785411784 liters     100km    liters\n",
    "\n",
    "    return 1 / ( (miles*1.609344) / (3.785411784*100) )\n",
    "\n",
    "print(l100kmtompg(3.9))\n",
    "print(l100kmtompg(7.5))\n",
    "print(l100kmtompg(10.))\n",
    "print(mpgtol100km(60.3))\n",
    "print(mpgtol100km(31.4))\n",
    "print(mpgtol100km(23.5))"
   ]
  },
  {
   "cell_type": "markdown",
   "metadata": {},
   "source": [
    "## Las funciones y sus alcances (scopes)\n",
    "\n",
    "El alcance de los parametros de una función es solo dentro de la misma función. (cuando decimos parametros nos referimos a los que esta recibe de los argumentos, o cualquier variable que es utilizada dentro de la función).\n",
    "\n",
    "Si una variable se crea fuera de la función, esta **si** será visible dentro de la funcíon.\n",
    "\n",
    "Pero si dentro de una función existe una variable con el mismo nombre, esta sustituye a la variable externa.\n",
    "\n",
    "Ejemplos:\n",
    "\n"
   ],
   "execution_count": null,
   "outputs": []
  },
  {
   "cell_type": "code",
   "execution_count": 4,
   "metadata": {},
   "outputs": [
    {
     "output_type": "stream",
     "name": "stdout",
     "text": "soy MiFuncion1, y defini la variable x=4\n"
    },
    {
     "output_type": "error",
     "ename": "NameError",
     "evalue": "name 'x' is not defined",
     "traceback": [
      "\u001b[1;31m---------------------------------------------------------------------------\u001b[0m",
      "\u001b[1;31mNameError\u001b[0m                                 Traceback (most recent call last)",
      "\u001b[1;32m<ipython-input-4-137550726612>\u001b[0m in \u001b[0;36m<module>\u001b[1;34m\u001b[0m\n\u001b[0;32m      4\u001b[0m \u001b[1;33m\u001b[0m\u001b[0m\n\u001b[0;32m      5\u001b[0m \u001b[0mmiFuncion1\u001b[0m\u001b[1;33m(\u001b[0m\u001b[1;33m)\u001b[0m\u001b[1;33m\u001b[0m\u001b[1;33m\u001b[0m\u001b[0m\n\u001b[1;32m----> 6\u001b[1;33m \u001b[0mprint\u001b[0m\u001b[1;33m(\u001b[0m\u001b[1;34m\"yo soy el codigo principal, puedo imprimir a x?\"\u001b[0m\u001b[1;33m,\u001b[0m\u001b[0mx\u001b[0m\u001b[1;33m)\u001b[0m\u001b[1;33m\u001b[0m\u001b[1;33m\u001b[0m\u001b[0m\n\u001b[0m",
      "\u001b[1;31mNameError\u001b[0m: name 'x' is not defined"
     ]
    }
   ],
   "source": [
    "def miFuncion1():\n",
    "    x=4\n",
    "    print(\"soy MiFuncion1, y defini la variable x=4\")\n",
    "\n",
    "miFuncion1()\n",
    "print(\"yo soy el codigo principal, puedo imprimir a x?\",x)"
   ]
  },
  {
   "cell_type": "code",
   "execution_count": 5,
   "metadata": {},
   "outputs": [
    {
     "output_type": "stream",
     "name": "stdout",
     "text": "soy MiFuncion1, y defini la variable z: 4\n"
    },
    {
     "output_type": "error",
     "ename": "NameError",
     "evalue": "name 'z' is not defined",
     "traceback": [
      "\u001b[1;31m---------------------------------------------------------------------------\u001b[0m",
      "\u001b[1;31mNameError\u001b[0m                                 Traceback (most recent call last)",
      "\u001b[1;32m<ipython-input-5-ee7a8bab4c74>\u001b[0m in \u001b[0;36m<module>\u001b[1;34m\u001b[0m\n\u001b[0;32m      7\u001b[0m \u001b[1;33m\u001b[0m\u001b[0m\n\u001b[0;32m      8\u001b[0m \u001b[0mmiFuncion1\u001b[0m\u001b[1;33m(\u001b[0m\u001b[1;33m)\u001b[0m\u001b[1;33m\u001b[0m\u001b[1;33m\u001b[0m\u001b[0m\n\u001b[1;32m----> 9\u001b[1;33m \u001b[0mmiFuncion2\u001b[0m\u001b[1;33m(\u001b[0m\u001b[1;33m)\u001b[0m\u001b[1;33m\u001b[0m\u001b[1;33m\u001b[0m\u001b[0m\n\u001b[0m\u001b[0;32m     10\u001b[0m \u001b[0mprint\u001b[0m\u001b[1;33m(\u001b[0m\u001b[1;34m\"yo soy el Codigo Principal, será puedo usar a z?\"\u001b[0m\u001b[1;33m,\u001b[0m\u001b[0mz\u001b[0m\u001b[1;33m)\u001b[0m\u001b[1;33m\u001b[0m\u001b[1;33m\u001b[0m\u001b[0m\n",
      "\u001b[1;32m<ipython-input-5-ee7a8bab4c74>\u001b[0m in \u001b[0;36mmiFuncion2\u001b[1;34m()\u001b[0m\n\u001b[0;32m      4\u001b[0m \u001b[1;33m\u001b[0m\u001b[0m\n\u001b[0;32m      5\u001b[0m \u001b[1;32mdef\u001b[0m \u001b[0mmiFuncion2\u001b[0m\u001b[1;33m(\u001b[0m\u001b[1;33m)\u001b[0m\u001b[1;33m:\u001b[0m\u001b[1;33m\u001b[0m\u001b[1;33m\u001b[0m\u001b[0m\n\u001b[1;32m----> 6\u001b[1;33m     \u001b[0mprint\u001b[0m\u001b[1;33m(\u001b[0m\u001b[1;34m\"soy MiFuncion2, será que puedo usar usar a z?\"\u001b[0m\u001b[1;33m,\u001b[0m\u001b[0mz\u001b[0m\u001b[1;33m)\u001b[0m\u001b[1;33m\u001b[0m\u001b[1;33m\u001b[0m\u001b[0m\n\u001b[0m\u001b[0;32m      7\u001b[0m \u001b[1;33m\u001b[0m\u001b[0m\n\u001b[0;32m      8\u001b[0m \u001b[0mmiFuncion1\u001b[0m\u001b[1;33m(\u001b[0m\u001b[1;33m)\u001b[0m\u001b[1;33m\u001b[0m\u001b[1;33m\u001b[0m\u001b[0m\n",
      "\u001b[1;31mNameError\u001b[0m: name 'z' is not defined"
     ]
    }
   ],
   "source": [
    "def miFuncion1():\n",
    "    z=4\n",
    "    print(\"soy MiFuncion1, y defini la variable z:\",z)\n",
    "\n",
    "def miFuncion2():\n",
    "    print(\"soy MiFuncion2, será que puedo usar usar a z?\",z)\n",
    "\n",
    "miFuncion1()\n",
    "miFuncion2()\n",
    "print(\"yo soy el Codigo Principal, será puedo usar a z?\",z)"
   ]
  },
  {
   "cell_type": "code",
   "execution_count": 6,
   "metadata": {},
   "outputs": [
    {
     "output_type": "stream",
     "name": "stdout",
     "text": "soy MiFuncion2, yo si puedo usar a y:? 4\nyo soy el codigo principal, puedo imprimir a y? 4\n"
    }
   ],
   "source": [
    "def miFuncion2():\n",
    "    print(\"soy MiFuncion2, yo si puedo usar a y:?\",y)\n",
    "\n",
    "y=4\n",
    "miFuncion2()\n",
    "print(\"yo soy el codigo principal, puedo imprimir a y?\",y)"
   ]
  },
  {
   "cell_type": "markdown",
   "metadata": {},
   "source": [
    "### Alcange global \n",
    "\n",
    "La palabra reservada `global` se utiliza para que una función utiliza una variable como global. (no cree otra nueva)"
   ],
   "execution_count": null,
   "outputs": []
  },
  {
   "cell_type": "code",
   "execution_count": 7,
   "metadata": {},
   "outputs": [
    {
     "output_type": "stream",
     "name": "stdout",
     "text": "el nuevo valor es 11\nel nuevo valor es 9\nel nuevo valor es 13\nel nuevo valor es 0\nel nuevo valor es -3\nel nuevo valor es -1\nel nuevo valor es -2\nvar sale con valol -2\n"
    }
   ],
   "source": [
    "def aumenta(num):\n",
    "    global var\n",
    "    var +=num\n",
    "    print(\"el nuevo valor es\",var)\n",
    "\n",
    "def disminuye(num):\n",
    "    global var\n",
    "    var -=num\n",
    "    print(\"el nuevo valor es\",var)\n",
    "\n",
    "def resetea():\n",
    "    global var \n",
    "    var = 0\n",
    "    print(\"el nuevo valor es\",var)\n",
    "\n",
    "var = 10\n",
    "aumenta(1)\n",
    "disminuye(2)\n",
    "aumenta(4)\n",
    "resetea()\n",
    "disminuye(3)\n",
    "aumenta(2)\n",
    "disminuye(1)\n",
    "\n",
    "print(\"var sale con valol\",var)"
   ]
  },
  {
   "cell_type": "markdown",
   "metadata": {},
   "source": [
    "### Modificando el parametro de una función\n",
    "\n",
    "### Escalares\n",
    "Si modificamos un parametro **escalar** dentro de una función, el cambio no se propaga fuera de la funcion. Eso tambien significa que una función recibe el *valor* del **argumento**, no el **argumento** en si."
   ],
   "execution_count": null,
   "outputs": []
  },
  {
   "cell_type": "code",
   "execution_count": 8,
   "metadata": {},
   "outputs": [
    {
     "output_type": "stream",
     "name": "stdout",
     "text": "enviare var: 1 a la funcion\nrecibí n= 1\ncambie n a n= 2\nya ven que no cambio var 1\n"
    }
   ],
   "source": [
    "def miFuncion(n):\n",
    "    print(\"recibí n=\",n)\n",
    "    n+=1\n",
    "    print(\"cambie n a n=\",n)\n",
    "\n",
    "var = 1\n",
    "print(\"enviare var:\",var,\"a la funcion\")\n",
    "miFuncion(var)\n",
    "print(\"ya ven que no cambio var\",var)\n",
    ""
   ]
  },
  {
   "cell_type": "markdown",
   "metadata": {},
   "source": [
    "### Listas\n",
    "\n",
    "Con listas funciona diferente: Si la función, **sustituye** la lista completa, el cambio **NO** sale de la función:"
   ],
   "execution_count": null,
   "outputs": []
  },
  {
   "cell_type": "code",
   "execution_count": 9,
   "metadata": {},
   "outputs": [
    {
     "output_type": "stream",
     "name": "stdout",
     "text": "lista1 original: [1, 2, 3]\nlista2 original: [0]\nveamos nuevamente la lista1: [1, 2, 3]\nveamos nuevamente la lista2: [0]\n"
    }
   ],
   "source": [
    "def nuevaLista(l):\n",
    "    l=[4,5,6]\n",
    "    \n",
    "\n",
    "def otraLista(l):\n",
    "    l=[\"a\",\"b\",\"c\",1,2,3]\n",
    "\n",
    "lista1 = [1,2,3]\n",
    "lista2 = [0]\n",
    "print(\"lista1 original:\",lista1)\n",
    "print(\"lista2 original:\",lista2)\n",
    "nuevaLista(lista1)\n",
    "otraLista(lista2)\n",
    "print(\"veamos nuevamente la lista1:\",lista1)\n",
    "print(\"veamos nuevamente la lista2:\",lista2)"
   ]
  },
  {
   "cell_type": "markdown",
   "metadata": {},
   "source": [
    "En cambio, si la función **modifica** la lista, (borra, agrega, inserta, cambia elementos), entonces el cambio **SI** sale de la función:"
   ],
   "execution_count": null,
   "outputs": []
  },
  {
   "cell_type": "code",
   "execution_count": 10,
   "metadata": {},
   "outputs": [
    {
     "output_type": "stream",
     "name": "stdout",
     "text": "lista1 original: [1, 2]\nlista2 original: [0, 1, 2, 3]\nlista3 original: [0, 1, 2, 3]\nveamos nuevamente la lista1: ['covid-19', 1, 2, 3]\nveamos nuevamente la lista2: [0, 1, 2]\nveamos nuevamente la lista3: ['Mundo', 3, 2, 3, 'Mundo']\n"
    }
   ],
   "source": [
    "def addElement(l):\n",
    "    l.append(3)\n",
    "    l.insert(0,\"covid-19\")\n",
    "\n",
    "def delElement(l):\n",
    "    del l[3]\n",
    "    \n",
    "def swapElement(l):\n",
    "    l[0],l[1]=l[-1],l[-2]\n",
    "\n",
    "lista1 = [1,2]\n",
    "lista2 = [0,1,2,3]\n",
    "lista3 = [\"hola\", 1,2,3, \"Mundo\"]\n",
    "print(\"lista1 original:\",lista1)\n",
    "print(\"lista2 original:\",lista2)\n",
    "print(\"lista3 original:\",lista2)\n",
    "addElement(lista1)\n",
    "delElement(lista2)\n",
    "swapElement(lista3)\n",
    "print(\"veamos nuevamente la lista1:\",lista1)\n",
    "print(\"veamos nuevamente la lista2:\",lista2)\n",
    "print(\"veamos nuevamente la lista3:\",lista3)\n",
    "\n",
    ""
   ]
  },
  {
   "cell_type": "markdown",
   "metadata": {},
   "source": [
    "## Funciones simples\n",
    "\n",
    "## Calcular el IMC\n",
    "\n",
    "El IMS se calcula `=peso en kg / (estatura en mts)^2`, la función devuelve `None` si las parametros no son validos"
   ]
  },
  {
   "cell_type": "code",
   "execution_count": 25,
   "metadata": {},
   "outputs": [
    {
     "output_type": "stream",
     "name": "stdout",
     "text": "19.283746556473833\n"
    }
   ],
   "source": [
    "def imc(peso,estatura):\n",
    "    if peso>=0 and estatura>0:\n",
    "        return peso/(estatura**2)\n",
    "\n",
    "print(imc(52.5, 1.65))"
   ]
  },
  {
   "cell_type": "markdown",
   "metadata": {},
   "source": [
    "### Calcular el IMC y convertir unidades del sistema inglés al sistema métrico"
   ]
  },
  {
   "cell_type": "code",
   "execution_count": 26,
   "metadata": {},
   "outputs": [
    {
     "output_type": "stream",
     "name": "stdout",
     "text": "27.565214082533313\n"
    }
   ],
   "source": [
    "def piespulgam(pies, pulgadas = 0.0):\n",
    "    return pies * 0.3048 + pulgadas * 0.0254\n",
    "\n",
    "\n",
    "def lbsakg(lb):\n",
    "    return lb * 0.45359237\n",
    "\n",
    "\n",
    "def imc(peso, altura):\n",
    "    if altura < 1.0 or altura > 2.5 or \\\n",
    "    peso < 20 or peso > 200:\n",
    "        return None\n",
    "    \n",
    "    return peso / altura ** 2\n",
    "\n",
    "\n",
    "print(imc(peso = lbsakg(176), altura = piespulgam(5, 7)))"
   ]
  },
  {
   "cell_type": "markdown",
   "metadata": {},
   "source": [
    "### Triangulos\n",
    "\n",
    "- En un triangulo, la suma arbitraria de dos lados tiene que ser mayor que la longitud del tercer lado.\n",
    "- Un triangulo es rectangulo si cumple con el teorema de pitagoras\n",
    "- Area de un Triangulo, con la Formula de Heron."
   ]
  },
  {
   "cell_type": "code",
   "execution_count": 95,
   "metadata": {},
   "outputs": [
    {
     "output_type": "stream",
     "name": "stdout",
     "text": "True\nFalse\nFalse\nTrue\nFalse\n0.4330127018922193\nNone\n0.49999999999999983\n"
    }
   ],
   "source": [
    "def esTriangulo(a,b,c):\n",
    "    return a + b > c and a + c > b and b + c > a\n",
    "\n",
    "def esTrianguloRect(a,b,c):\n",
    "    if esTriangulo(a,b,c):\n",
    "        if (a**2 == b**2 + c**2 or b**2 == c**2 + a**2 or c**2 == a**2 + b**2):\n",
    "            return True\n",
    "        else:\n",
    "            return False\n",
    "\n",
    "def areaHeron(a,b,c):\n",
    "    if esTriangulo(a,b,c):\n",
    "        s=(a+b+c)/2\n",
    "        return (s*(s-a)*(s-b)*(s-c))**0.5\n",
    "    else:\n",
    "        return None\n",
    "\n",
    "print(esTriangulo(1,1,1))\n",
    "print(esTrianguloRect(1,1,1))\n",
    "print(esTriangulo(1,1,3))\n",
    "print(esTrianguloRect(5,3,4))\n",
    "print(esTrianguloRect(1,1,1))\n",
    "print(areaHeron(1,1,1))\n",
    "print(areaHeron(1,1,3))\n",
    "print(areaHeron(1,1,2**0.5))\n",
    "\n",
    "\n",
    ""
   ]
  },
  {
   "cell_type": "markdown",
   "metadata": {},
   "source": [
    "### Factoriales\n",
    "\n",
    "- 0! = 1\n",
    "- 1! = 1\n",
    "- 2! = 1 * 2 = 2\n",
    "- 3! = 1 \\* 2 \\* 3 = 6\n",
    "- n! = 1 \\* 2 \\* 3 ... * n-1 \\* n"
   ]
  },
  {
   "cell_type": "code",
   "execution_count": 144,
   "metadata": {},
   "outputs": [
    {
     "output_type": "stream",
     "name": "stdout",
     "text": "0   factorial: 1\n1   factorial: 1\n2   factorial: 2\n3   factorial: 6\n4   factorial: 24\n5   factorial: 120\n6   factorial: 720\n7   factorial: 5040\n8   factorial: 40320\n9   factorial: 362880\n10   factorial: 3628800\n11   factorial: 39916800\n12   factorial: 479001600\n13   factorial: 6227020800\n14   factorial: 87178291200\n15   factorial: 1307674368000\n16   factorial: 20922789888000\n17   factorial: 355687428096000\n18   factorial: 6402373705728000\n19   factorial: 121645100408832000\n20   factorial: 2432902008176640000\n"
    }
   ],
   "source": [
    "def factorial(n):\n",
    "    if n<0:\n",
    "        return None\n",
    "    else:\n",
    "        f=1\n",
    "        for i in range (1,n+1):\n",
    "            f*=i\n",
    "        return f\n",
    "\n",
    "for i in range (21):\n",
    "    print(i,\"  factorial:\",factorial(i))"
   ]
  },
  {
   "cell_type": "markdown",
   "metadata": {},
   "source": [
    "### Serie Fibonacci\n",
    "\n",
    "Son una secuencia de números enteros los cuales siguen una regla sencilla:\n",
    "\n",
    "- El primer elemento de la secuencia es igual a uno (Fib1 = 1).\n",
    "- El segundo elemento también es igual a uno (Fib2 = 1).\n",
    "- Cada numero después de ellos son la suman de los dos números anteriores (Fibi = Fibi-1 + Fibi-2)."
   ]
  },
  {
   "cell_type": "code",
   "execution_count": 182,
   "metadata": {},
   "outputs": [
    {
     "output_type": "stream",
     "name": "stdout",
     "text": "0 --> None\n1 --> 1\n2 --> 1\n3 --> 2\n4 --> 3\n5 --> 5\n6 --> 8\n7 --> 13\n8 --> 21\n9 --> 34\n"
    }
   ],
   "source": [
    "def fibonacci(n):\n",
    "    fmin2=1\n",
    "    fmin1=1 \n",
    "    if n<=0:\n",
    "        return None\n",
    "    elif n==1 or n==2:\n",
    "        return 1\n",
    "    else:\n",
    "        for i in range(1,n-1):\n",
    "            f=fmin1+fmin2\n",
    "            fmin2,fmin1=fmin1,f\n",
    "\n",
    "        return f\n",
    "            \n",
    "    \n",
    "for i in range(10):\n",
    "    print(i,\"-->\",fibonacci(i))"
   ]
  },
  {
   "cell_type": "code",
   "execution_count": null,
   "metadata": {},
   "outputs": [],
   "source": []
  },
  {
   "cell_type": "code",
   "execution_count": null,
   "metadata": {},
   "outputs": [],
   "source": []
  }
 ]
}